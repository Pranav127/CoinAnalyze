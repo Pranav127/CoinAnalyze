{
 "cells": [
  {
   "cell_type": "code",
   "execution_count": 1,
   "metadata": {},
   "outputs": [
    {
     "name": "stdout",
     "output_type": "stream",
     "text": [
      "News Data Fetched Successfully:\n",
      "{'count': 200, 'next': 'https://cryptopanic.com/api/v1/posts/?auth_token=7ad1db76350b5bc83b8857b25de4a1b1a0b8dc98&public=true&page=2', 'previous': None, 'results': [{'kind': 'news', 'domain': 'cryptopolitan.com', 'source': {'title': 'Feed - Cryptopolitan.Com', 'region': 'en', 'domain': 'cryptopolitan.com', 'path': None}, 'title': 'Canadian regulator accuses Einstein crypto exchange of fraud', 'published_at': '2024-02-05T11:17:29Z', 'slug': 'Canadian-regulator-accuses-Einstein-crypto-exchange-of-fraud', 'id': 19228756, 'url': 'https://cryptopanic.com/news/19228756/Canadian-regulator-accuses-Einstein-crypto-exchange-of-fraud', 'created_at': '2024-02-05T11:17:29Z', 'votes': {'negative': 0, 'positive': 0, 'important': 0, 'liked': 0, 'disliked': 0, 'lol': 0, 'toxic': 0, 'saved': 0, 'comments': 0}}, {'kind': 'news', 'domain': 'u.today', 'source': {'title': 'U.Today', 'region': 'en', 'domain': 'u.today', 'path': None}, 'title': \"Cardano Should Become More Like Solana, Says CyberCapital's Justin Bons\", 'published_at': '2024-02-05T11:14:00Z', 'slug': 'Cardano-Should-Become-More-Like-Solana-Says-CyberCapitals-Justin-Bons', 'currencies': [{'code': 'SOL', 'title': 'Solana', 'slug': 'solana', 'url': 'https://cryptopanic.com/news/solana/'}, {'code': 'ADA', 'title': 'Cardano', 'slug': 'cardano', 'url': 'https://cryptopanic.com/news/cardano/'}], 'id': 19228744, 'url': 'https://cryptopanic.com/news/19228744/Cardano-Should-Become-More-Like-Solana-Says-CyberCapitals-Justin-Bons', 'created_at': '2024-02-05T11:14:00Z', 'votes': {'negative': 0, 'positive': 0, 'important': 0, 'liked': 0, 'disliked': 0, 'lol': 0, 'toxic': 0, 'saved': 0, 'comments': 0}}, {'kind': 'news', 'domain': 'cryptoglobe.com', 'source': {'title': 'CryptoGlobe', 'region': 'en', 'domain': 'cryptoglobe.com', 'path': None}, 'title': 'Global Economic Outlook Brightens as Inflation Recedes, with the U.S. Leading the Charge', 'published_at': '2024-02-05T11:10:04Z', 'slug': 'Global-Economic-Outlook-Brightens-as-Inflation-Recedes-with-the-US-Leading-the-Charge', 'currencies': [{'code': 'U', 'title': 'Unidef', 'slug': 'unidef', 'url': 'https://cryptopanic.com/news/unidef/'}], 'id': 19228740, 'url': 'https://cryptopanic.com/news/19228740/Global-Economic-Outlook-Brightens-as-Inflation-Recedes-with-the-US-Leading-the-Charge', 'created_at': '2024-02-05T11:10:04Z', 'votes': {'negative': 0, 'positive': 0, 'important': 0, 'liked': 0, 'disliked': 0, 'lol': 0, 'toxic': 0, 'saved': 0, 'comments': 0}}, {'kind': 'news', 'domain': 'coinpaprika.com', 'votes': {'negative': 0, 'positive': 0, 'important': 1, 'liked': 0, 'disliked': 0, 'lol': 0, 'toxic': 0, 'saved': 1, 'comments': 0}, 'source': {'title': 'coinpaprika', 'region': 'en', 'domain': 'coinpaprika.com', 'path': None}, 'title': 'Trump Criticizes AI and CBDCs', 'published_at': '2024-02-05T11:07:20Z', 'slug': 'Trump-Criticizes-AI-and-CBDCs', 'id': 19228727, 'url': 'https://cryptopanic.com/news/19228727/Trump-Criticizes-AI-and-CBDCs', 'created_at': '2024-02-05T11:07:20Z'}, {'kind': 'news', 'domain': 'newsbtc.com', 'source': {'title': 'NewsBTC', 'region': 'en', 'domain': 'newsbtc.com', 'path': None}, 'title': 'Crypto Token Unlocks To Cross $700 Million In February 2024, Here Are The Culprits', 'published_at': '2024-02-05T11:00:35Z', 'slug': 'Crypto-Token-Unlocks-To-Cross-700-Million-In-February-2024-Here-Are-The-Culprits', 'currencies': [{'code': 'ETH', 'title': 'Ethereum', 'slug': 'ethereum', 'url': 'https://cryptopanic.com/news/ethereum/'}, {'code': 'BNB', 'title': 'BNB', 'slug': 'binancecoin', 'url': 'https://cryptopanic.com/news/binancecoin/'}, {'code': 'SOL', 'title': 'Solana', 'slug': 'solana', 'url': 'https://cryptopanic.com/news/solana/'}, {'code': 'AVAX', 'title': 'Avalanche', 'slug': 'avalanche-2', 'url': 'https://cryptopanic.com/news/avalanche-2/'}, {'code': 'LINK', 'title': 'Chainlink', 'slug': 'chainlink', 'url': 'https://cryptopanic.com/news/chainlink/'}, {'code': 'APT', 'title': 'Aptos', 'slug': 'aptos', 'url': 'https://cryptopanic.com/news/aptos/'}, {'code': 'OP', 'title': 'Optimism', 'slug': 'optimism', 'url': 'https://cryptopanic.com/news/optimism/'}, {'code': 'SUI', 'title': 'Sui', 'slug': 'sui', 'url': 'https://cryptopanic.com/news/sui/'}, {'code': 'ALGO', 'title': 'Algorand', 'slug': 'algorand', 'url': 'https://cryptopanic.com/news/algorand/'}, {'code': 'SAND', 'title': 'The Sandbox', 'slug': 'the-sandbox', 'url': 'https://cryptopanic.com/news/the-sandbox/'}, {'code': 'APE', 'title': 'ApeCoin', 'slug': 'apecoin', 'url': 'https://cryptopanic.com/news/apecoin/'}, {'code': 'MANTA', 'title': 'Manta Network', 'slug': 'manta-network', 'url': 'https://cryptopanic.com/news/manta-network/'}, {'code': 'AGIX', 'title': 'SingularityNET', 'slug': 'singularitynet', 'url': 'https://cryptopanic.com/news/singularitynet/'}], 'id': 19228700, 'url': 'https://cryptopanic.com/news/19228700/Crypto-Token-Unlocks-To-Cross-700-Million-In-February-2024-Here-Are-The-Culprits', 'created_at': '2024-02-05T11:00:35Z', 'votes': {'negative': 0, 'positive': 0, 'important': 0, 'liked': 0, 'disliked': 0, 'lol': 0, 'toxic': 0, 'saved': 0, 'comments': 0}}, {'kind': 'media', 'domain': 'youtube.com', 'source': {'title': 'The Modern Investor', 'region': 'en', 'domain': 'youtube.com', 'path': None}, 'title': \"HUGE NEWS: Bitcoin Will Hit THIS PRICE In A FEW MONTHS, It's OBVIOUS Cardano ADA CANNOT Do THIS\", 'published_at': '2024-02-05T11:00:18Z', 'slug': 'HUGE-NEWS-Bitcoin-Will-Hit-THIS-PRICE-In-A-FEW-MONTHS-Its-OBVIOUS-Cardano-ADA-CANNOT-Do-THIS', 'currencies': [{'code': 'BTC', 'title': 'Bitcoin', 'slug': 'bitcoin', 'url': 'https://cryptopanic.com/news/bitcoin/'}, {'code': 'ADA', 'title': 'Cardano', 'slug': 'cardano', 'url': 'https://cryptopanic.com/news/cardano/'}], 'id': 19228725, 'url': 'https://cryptopanic.com/news/19228725/HUGE-NEWS-Bitcoin-Will-Hit-THIS-PRICE-In-A-FEW-MONTHS-Its-OBVIOUS-Cardano-ADA-CANNOT-Do-THIS', 'created_at': '2024-02-05T11:00:18Z', 'votes': {'negative': 0, 'positive': 0, 'important': 0, 'liked': 0, 'disliked': 0, 'lol': 0, 'toxic': 0, 'saved': 0, 'comments': 0}}, {'kind': 'media', 'domain': 'youtube.com', 'source': {'title': 'DataDash', 'region': 'en', 'domain': 'youtube.com', 'path': None}, 'title': 'Is A Bitcoin & Altcoin Supercycle Coming? | The Charts You Need To Watch', 'published_at': '2024-02-05T11:00:05Z', 'slug': 'Is-A-Bitcoin-Altcoin-Supercycle-Coming-The-Charts-You-Need-To-Watch', 'currencies': [{'code': 'BTC', 'title': 'Bitcoin', 'slug': 'bitcoin', 'url': 'https://cryptopanic.com/news/bitcoin/'}], 'id': 19228732, 'url': 'https://cryptopanic.com/news/19228732/Is-A-Bitcoin-Altcoin-Supercycle-Coming-The-Charts-You-Need-To-Watch', 'created_at': '2024-02-05T11:00:05Z', 'votes': {'negative': 0, 'positive': 0, 'important': 0, 'liked': 0, 'disliked': 0, 'lol': 0, 'toxic': 0, 'saved': 0, 'comments': 0}}, {'kind': 'news', 'domain': 'en.bitcoinsistemi.com', 'source': {'title': 'en bitcoinsistemi', 'region': 'en', 'domain': 'en.bitcoinsistemi.com', 'path': None}, 'title': 'South Korean Officials Will Meet with SEC Chairman Gary Gensler: Bitcoin Will Be the Main Agenda!', 'published_at': '2024-02-05T10:59:07Z', 'slug': 'South-Korean-Officials-Will-Meet-with-SEC-Chairman-Gary-Gensler-Bitcoin-Will-Be-the-Main-Agenda', 'currencies': [{'code': 'BTC', 'title': 'Bitcoin', 'slug': 'bitcoin', 'url': 'https://cryptopanic.com/news/bitcoin/'}, {'code': '', 'title': 'BAYC Fraction Token', 'slug': 'bayc-fraction-token', 'url': 'https://cryptopanic.com/news/bayc-fraction-token/'}], 'id': 19228706, 'url': 'https://cryptopanic.com/news/19228706/South-Korean-Officials-Will-Meet-with-SEC-Chairman-Gary-Gensler-Bitcoin-Will-Be-the-Main-Agenda', 'created_at': '2024-02-05T10:59:07Z', 'votes': {'negative': 0, 'positive': 0, 'important': 0, 'liked': 0, 'disliked': 0, 'lol': 0, 'toxic': 0, 'saved': 0, 'comments': 0}}, {'kind': 'news', 'domain': 'coindesk.com', 'source': {'title': 'CoinDesk', 'region': 'en', 'domain': 'coindesk.com', 'path': None}, 'title': 'Stablecoin Tether’s Increasing Dominance Is Bad for Crypto Markets, JPMorgan Says', 'published_at': '2024-02-05T10:56:37Z', 'slug': 'Stablecoin-Tethers-Increasing-Dominance-Is-Bad-for-Crypto-Markets-JPMorgan-Says', 'currencies': [{'code': 'USDT', 'title': 'Tether', 'slug': 'tether', 'url': 'https://cryptopanic.com/news/tether/'}, {'code': 'USDC', 'title': 'USDC', 'slug': 'usd-coin', 'url': 'https://cryptopanic.com/news/usd-coin/'}, {'code': '', 'title': 'BAYC Fraction Token', 'slug': 'bayc-fraction-token', 'url': 'https://cryptopanic.com/news/bayc-fraction-token/'}], 'id': 19228716, 'url': 'https://cryptopanic.com/news/19228716/Stablecoin-Tethers-Increasing-Dominance-Is-Bad-for-Crypto-Markets-JPMorgan-Says', 'created_at': '2024-02-05T10:56:37Z', 'votes': {'negative': 0, 'positive': 0, 'important': 0, 'liked': 0, 'disliked': 0, 'lol': 0, 'toxic': 0, 'saved': 0, 'comments': 0}}, {'kind': 'news', 'domain': 'cryptopolitan.com', 'source': {'title': 'Feed - Cryptopolitan.Com', 'region': 'en', 'domain': 'cryptopolitan.com', 'path': None}, 'title': 'Hong Kong sets crypto licensing deadline to boost security', 'published_at': '2024-02-05T10:53:18Z', 'slug': 'Hong-Kong-sets-crypto-licensing-deadline-to-boost-security', 'id': 19228688, 'url': 'https://cryptopanic.com/news/19228688/Hong-Kong-sets-crypto-licensing-deadline-to-boost-security', 'created_at': '2024-02-05T10:53:18Z', 'votes': {'negative': 0, 'positive': 0, 'important': 0, 'liked': 0, 'disliked': 0, 'lol': 0, 'toxic': 0, 'saved': 0, 'comments': 0}}, {'kind': 'news', 'domain': 'beincrypto.com', 'source': {'title': 'BeInCrypto', 'region': 'en', 'domain': 'beincrypto.com', 'path': None}, 'title': 'Bitcoin (BTC) Faces Deadlock After Mixed January – Will Price Rally or Tumble in February?', 'published_at': '2024-02-05T10:45:00Z', 'slug': 'Bitcoin-BTC-Faces-Deadlock-After-Mixed-January-Will-Price-Rally-or-Tumble-in-February', 'currencies': [{'code': 'BTC', 'title': 'Bitcoin', 'slug': 'bitcoin', 'url': 'https://cryptopanic.com/news/bitcoin/'}, {'code': 'USDT', 'title': 'Tether', 'slug': 'tether', 'url': 'https://cryptopanic.com/news/tether/'}, {'code': '00', 'title': '00 Token', 'slug': 'zer0zer0', 'url': 'https://cryptopanic.com/news/zer0zer0/'}, {'code': '42', 'title': '42-coin', 'slug': '42-coin', 'url': 'https://cryptopanic.com/news/42-coin/'}, {'code': '', 'title': 'BAYC Fraction Token', 'slug': 'bayc-fraction-token', 'url': 'https://cryptopanic.com/news/bayc-fraction-token/'}], 'id': 19228755, 'url': 'https://cryptopanic.com/news/19228755/Bitcoin-BTC-Faces-Deadlock-After-Mixed-January-Will-Price-Rally-or-Tumble-in-February', 'created_at': '2024-02-05T10:45:00Z', 'votes': {'negative': 0, 'positive': 0, 'important': 0, 'liked': 0, 'disliked': 0, 'lol': 0, 'toxic': 0, 'saved': 0, 'comments': 0}}, {'kind': 'media', 'domain': 'youtube.com', 'source': {'title': 'CoinGecko', 'region': 'en', 'domain': 'youtube.com', 'path': None}, 'title': 'Earn MORE With Your Staked ETH!! Restaking EXPLAINED (Feat. EigenLayer)', 'published_at': '2024-02-05T10:44:04Z', 'slug': 'Earn-MORE-With-Your-Staked-ETH-Restaking-EXPLAINED-Feat-EigenLayer', 'currencies': [{'code': 'ETH', 'title': 'Ethereum', 'slug': 'ethereum', 'url': 'https://cryptopanic.com/news/ethereum/'}], 'id': 19228678, 'url': 'https://cryptopanic.com/news/19228678/Earn-MORE-With-Your-Staked-ETH-Restaking-EXPLAINED-Feat-EigenLayer', 'created_at': '2024-02-05T10:44:04Z', 'votes': {'negative': 0, 'positive': 0, 'important': 0, 'liked': 0, 'disliked': 0, 'lol': 0, 'toxic': 0, 'saved': 0, 'comments': 0}}, {'kind': 'news', 'domain': 'cryptobriefing.com', 'votes': {'negative': 0, 'positive': 0, 'important': 1, 'liked': 0, 'disliked': 0, 'lol': 0, 'toxic': 0, 'saved': 0, 'comments': 0}, 'source': {'title': 'CryptoBriefing', 'region': 'en', 'domain': 'cryptobriefing.com', 'path': None}, 'title': 'China intensifies crackdown on crypto mining, US and EU study new regulations', 'published_at': '2024-02-05T10:43:27Z', 'slug': 'China-intensifies-crackdown-on-crypto-mining-US-and-EU-study-new-regulations', 'id': 19228666, 'url': 'https://cryptopanic.com/news/19228666/China-intensifies-crackdown-on-crypto-mining-US-and-EU-study-new-regulations', 'created_at': '2024-02-05T10:43:27Z'}, {'kind': 'news', 'domain': 'cryptopolitan.com', 'source': {'title': 'Feed - Cryptopolitan.Com', 'region': 'en', 'domain': 'cryptopolitan.com', 'path': None}, 'title': 'MANTA Price Prediction 2024-2033: Will Manta Network Survive Or Crash?', 'published_at': '2024-02-05T10:39:26Z', 'slug': 'MANTA-Price-Prediction-2024-2033-Will-Manta-Network-Survive-Or-Crash', 'currencies': [{'code': 'MANTA', 'title': 'Manta Network', 'slug': 'manta-network', 'url': 'https://cryptopanic.com/news/manta-network/'}], 'id': 19228657, 'url': 'https://cryptopanic.com/news/19228657/MANTA-Price-Prediction-2024-2033-Will-Manta-Network-Survive-Or-Crash', 'created_at': '2024-02-05T10:39:26Z', 'votes': {'negative': 0, 'positive': 0, 'important': 0, 'liked': 0, 'disliked': 0, 'lol': 0, 'toxic': 0, 'saved': 0, 'comments': 0}}, {'kind': 'news', 'domain': 'coinedition.com', 'source': {'title': 'coinedition', 'region': 'en', 'domain': 'coinedition.com', 'path': None}, 'title': 'Reports Caution Against Security Threats, Binance Assures Account Safety', 'published_at': '2024-02-05T10:38:10Z', 'slug': 'Reports-Caution-Against-Security-Threats-Binance-Assures-Account-Safety', 'id': 19228658, 'url': 'https://cryptopanic.com/news/19228658/Reports-Caution-Against-Security-Threats-Binance-Assures-Account-Safety', 'created_at': '2024-02-05T10:38:10Z', 'votes': {'negative': 0, 'positive': 0, 'important': 0, 'liked': 0, 'disliked': 0, 'lol': 0, 'toxic': 0, 'saved': 0, 'comments': 0}}, {'kind': 'news', 'domain': 'coindesk.com', 'source': {'title': 'CoinDesk', 'region': 'en', 'domain': 'coindesk.com', 'path': None}, 'title': \"Apparent 'Insiders’ Make Millions After Grabbing Ethereum Version of Dogwifhat\", 'published_at': '2024-02-05T10:34:07Z', 'slug': 'Apparent-Insiders-Make-Millions-After-Grabbing-Ethereum-Version-of-Dogwifhat', 'currencies': [{'code': 'ETH', 'title': 'Ethereum', 'slug': 'ethereum', 'url': 'https://cryptopanic.com/news/ethereum/'}, {'code': 'SOL', 'title': 'Solana', 'slug': 'solana', 'url': 'https://cryptopanic.com/news/solana/'}, {'code': 'WIF', 'title': 'dogwifhat', 'slug': 'dogwifcoin', 'url': 'https://cryptopanic.com/news/dogwifcoin/'}, {'code': 'MEME', 'title': 'Memecoin', 'slug': 'memecoin-2', 'url': 'https://cryptopanic.com/news/memecoin-2/'}, {'code': '', 'title': 'BAYC Fraction Token', 'slug': 'bayc-fraction-token', 'url': 'https://cryptopanic.com/news/bayc-fraction-token/'}], 'id': 19228664, 'url': 'https://cryptopanic.com/news/19228664/Apparent-Insiders-Make-Millions-After-Grabbing-Ethereum-Version-of-Dogwifhat', 'created_at': '2024-02-05T10:34:07Z', 'votes': {'negative': 0, 'positive': 0, 'important': 0, 'liked': 0, 'disliked': 0, 'lol': 0, 'toxic': 0, 'saved': 0, 'comments': 0}}, {'kind': 'news', 'domain': 'bitcoinist.com', 'source': {'title': 'Bitcoinist', 'region': 'en', 'domain': 'bitcoinist.com', 'path': None}, 'title': 'Weekly Crypto Preview: Top 3 Altcoins You Shouldn’t Miss', 'published_at': '2024-02-05T10:30:48Z', 'slug': 'Weekly-Crypto-Preview-Top-3-Altcoins-You-Shouldnt-Miss', 'currencies': [{'code': 'XRP', 'title': 'XRP', 'slug': 'ripple', 'url': 'https://cryptopanic.com/news/ripple/'}, {'code': 'AVAX', 'title': 'Avalanche', 'slug': 'avalanche-2', 'url': 'https://cryptopanic.com/news/avalanche-2/'}, {'code': 'MATIC', 'title': 'Polygon', 'slug': 'matic-network', 'url': 'https://cryptopanic.com/news/matic-network/'}, {'code': 'SHRAP', 'title': 'Shrapnel', 'slug': 'shrapnel-2', 'url': 'https://cryptopanic.com/news/shrapnel-2/'}, {'code': '', 'title': 'IERC-20', 'slug': 'ierc-20', 'url': 'https://cryptopanic.com/news/ierc-20/'}], 'id': 19228638, 'url': 'https://cryptopanic.com/news/19228638/Weekly-Crypto-Preview-Top-3-Altcoins-You-Shouldnt-Miss', 'created_at': '2024-02-05T10:30:48Z', 'votes': {'negative': 0, 'positive': 0, 'important': 0, 'liked': 0, 'disliked': 0, 'lol': 0, 'toxic': 0, 'saved': 0, 'comments': 0}}, {'kind': 'news', 'domain': 'cointelegraph.com', 'source': {'title': 'CoinTelegraph', 'region': 'en', 'domain': 'cointelegraph.com', 'path': None}, 'title': 'Spanish Treasury to seize crypto to pay tax debts', 'published_at': '2024-02-05T10:26:56Z', 'slug': 'Spanish-Treasury-to-seize-crypto-to-pay-tax-debts', 'id': 19228628, 'url': 'https://cryptopanic.com/news/19228628/Spanish-Treasury-to-seize-crypto-to-pay-tax-debts', 'created_at': '2024-02-05T10:26:56Z', 'votes': {'negative': 0, 'positive': 0, 'important': 0, 'liked': 0, 'disliked': 0, 'lol': 0, 'toxic': 0, 'saved': 0, 'comments': 0}}, {'kind': 'news', 'domain': 'finbold.com', 'source': {'title': 'Finbold', 'region': 'en', 'domain': 'finbold.com', 'path': None}, 'title': '5 cryptocurrencies under $1 to buy this week', 'published_at': '2024-02-05T10:25:03Z', 'slug': '5-cryptocurrencies-under-1-to-buy-this-week', 'currencies': [{'code': 'ADA', 'title': 'Cardano', 'slug': 'cardano', 'url': 'https://cryptopanic.com/news/cardano/'}, {'code': 'TRX', 'title': 'TRON', 'slug': 'tron', 'url': 'https://cryptopanic.com/news/tron/'}, {'code': 'FLR', 'title': 'Flare', 'slug': 'flare-networks', 'url': 'https://cryptopanic.com/news/flare-networks/'}, {'code': 'CELO', 'title': 'Celo', 'slug': 'celo', 'url': 'https://cryptopanic.com/news/celo/'}, {'code': 'CHR', 'title': 'Chromia', 'slug': 'chromaway', 'url': 'https://cryptopanic.com/news/chromaway/'}], 'id': 19228630, 'url': 'https://cryptopanic.com/news/19228630/5-cryptocurrencies-under-1-to-buy-this-week', 'created_at': '2024-02-05T10:25:03Z', 'votes': {'negative': 0, 'positive': 0, 'important': 0, 'liked': 0, 'disliked': 0, 'lol': 0, 'toxic': 0, 'saved': 0, 'comments': 0}}, {'kind': 'news', 'domain': 'u.today', 'votes': {'negative': 0, 'positive': 1, 'important': 0, 'liked': 1, 'disliked': 0, 'lol': 0, 'toxic': 0, 'saved': 0, 'comments': 1}, 'source': {'title': 'U.Today', 'region': 'en', 'domain': 'u.today', 'path': None}, 'title': 'Solana (SOL) Whales Transfer $180 Million in Mysterious Moves', 'published_at': '2024-02-05T10:19:00Z', 'slug': 'Solana-SOL-Whales-Transfer-180-Million-in-Mysterious-Moves', 'currencies': [{'code': 'SOL', 'title': 'Solana', 'slug': 'solana', 'url': 'https://cryptopanic.com/news/solana/'}], 'id': 19228618, 'url': 'https://cryptopanic.com/news/19228618/Solana-SOL-Whales-Transfer-180-Million-in-Mysterious-Moves', 'created_at': '2024-02-05T10:19:00Z'}]}\n"
     ]
    }
   ],
   "source": [
    "import requests\n",
    "\n",
    "def fetch_crypto_news(api_key):\n",
    "    base_url = \"https://cryptopanic.com/api/v1/posts/\"\n",
    "    params = {\n",
    "        \"auth_token\": api_key,\n",
    "        \"public\": \"true\"\n",
    "    }\n",
    "    \n",
    "    try:\n",
    "        response = requests.get(base_url, params=params)\n",
    "        response.raise_for_status()  # Raises a HTTPError if the response status code is 4XX/5XX\n",
    "        news_data = response.json()\n",
    "        \n",
    "        return news_data\n",
    "    \n",
    "    except requests.exceptions.RequestException as e:\n",
    "        print(f\"Error fetching news data: {e}\")\n",
    "        return None\n",
    "\n",
    "# Use your API key here\n",
    "api_key = \"8a66ae87eef26809144838e675db665202b2685c\"\n",
    "\n",
    "# Fetch the news data\n",
    "news_data = fetch_crypto_news(api_key)\n",
    "\n",
    "if news_data:\n",
    "    print(\"News Data Fetched Successfully:\")\n",
    "    print(news_data)\n",
    "else:\n",
    "    print(\"Failed to fetch news data.\")\n"
   ]
  },
  {
   "cell_type": "code",
   "execution_count": null,
   "metadata": {},
   "outputs": [],
   "source": [
    "import requests\n",
    "import pandas as pd\n",
    "import numpy as np\n",
    "from sklearn.linear_model import LinearRegression\n",
    "import matplotlib.pyplot as plt\n",
    "\n",
    "# Replace with your own API key from CryptoCompare\n",
    "\n",
    "# Fetch historical daily Bitcoin prices\n",
    "def get_historical_prices():\n",
    "    url = f\"https://min-api.cryptocompare.com/data/v2/histoday?fsym=BTC&tsym=USD&limit=1095\"\n",
    "    response = requests.get(url)\n",
    "    data = response.json()\n",
    "    df = pd.DataFrame(data[\"Data\"][\"Data\"])\n",
    "    return df\n",
    "\n",
    "# Prepare data for linear regression\n",
    "def prepare_data(df):\n",
    "    df[\"Date\"] = pd.to_datetime(df[\"time\"], unit=\"s\")\n",
    "    df.set_index(\"Date\", inplace=True)\n",
    "    df[\"Price\"] = df[\"close\"]\n",
    "    return df[[\"Price\"]]\n",
    "\n",
    "# Fit linear regression model\n",
    "def fit_linear_regression(df):\n",
    "    X = np.arange(len(df)).reshape(-1, 1)\n",
    "    y = df[\"Price\"].values\n",
    "    model = LinearRegression()\n",
    "    model.fit(X, y)\n",
    "    return model\n",
    "\n",
    "# Predict next 7 days\n",
    "def predict_next_days(model, num_days=7):\n",
    "    last_date = df.index[-1]\n",
    "    next_dates = pd.date_range(start=last_date, periods=num_days + 1, closed=\"right\")\n",
    "    next_X = np.arange(len(df), len(df) + num_days).reshape(-1, 1)\n",
    "    next_prices = model.predict(next_X)\n",
    "    predictions = pd.DataFrame({\"Date\": next_dates[1:], \"Predicted Price\": next_prices[1:]})\n",
    "    return predictions\n",
    "\n",
    "if __name__ == \"__main__\":\n",
    "    df = get_historical_prices()\n",
    "    df = prepare_data(df)\n",
    "    model = fit_linear_regression(df)\n",
    "    predictions = predict_next_days(model)\n",
    "\n",
    "    print(\"Predicted Bitcoin Prices for the Next 7 Days:\")\n",
    "    print(predictions)\n",
    "    \n",
    "    # Plot historical data and predictions\n",
    "    plt.figure(figsize=(10, 6))\n",
    "    plt.plot(df.index, df[\"Price\"], label=\"Historical Price\")\n",
    "    plt.plot(predictions[\"Date\"], predictions[\"Predicted Price\"], label=\"Predicted Price\", linestyle=\"--\")\n",
    "    plt.xlabel(\"Date\")\n",
    "    plt.ylabel(\"Bitcoin Price (USD)\")\n",
    "    plt.title(\"Bitcoin Price Prediction\")\n",
    "    plt.legend()\n",
    "    plt.show()\n"
   ]
  }
 ],
 "metadata": {
  "kernelspec": {
   "display_name": "venv",
   "language": "python",
   "name": "python3"
  },
  "language_info": {
   "codemirror_mode": {
    "name": "ipython",
    "version": 3
   },
   "file_extension": ".py",
   "mimetype": "text/x-python",
   "name": "python",
   "nbconvert_exporter": "python",
   "pygments_lexer": "ipython3",
   "version": "3.11.5"
  }
 },
 "nbformat": 4,
 "nbformat_minor": 2
}
